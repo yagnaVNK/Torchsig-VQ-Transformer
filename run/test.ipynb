{
 "cells": [
  {
   "cell_type": "code",
   "execution_count": 3,
   "metadata": {},
   "outputs": [],
   "source": [
    "from src.Dataset import getDataLoader\n",
    "import torch"
   ]
  },
  {
   "cell_type": "code",
   "execution_count": 4,
   "metadata": {},
   "outputs": [],
   "source": [
    "classes = [\"4ask\",\"8pam\",\"16psk\",\"32qam_cross\",\"2fsk\",\"ofdm-256\"]\n",
    "iq_samples = 1024\n",
    "samples_per_class= 1000\n",
    "batch_size = 32\n",
    "epochs = 10\n",
    "eff_net_PATH = f'src/SavedModels/efficientNet_epochs_{epochs}.pt'\n",
    "in_channels = 2\n",
    "\n",
    "dl_train, ds_train, dl_test, ds_test, dl_val, ds_val = getDataLoader(\n",
    "    classes = classes,\n",
    "    iq_samples = iq_samples,\n",
    "    samples_per_class= samples_per_class,\n",
    "    batch_size=batch_size\n",
    "    )"
   ]
  },
  {
   "cell_type": "code",
   "execution_count": 5,
   "metadata": {},
   "outputs": [
    {
     "data": {
      "text/plain": [
       "(2, 1024)"
      ]
     },
     "execution_count": 5,
     "metadata": {},
     "output_type": "execute_result"
    }
   ],
   "source": [
    "ds_train[0][0].shape"
   ]
  },
  {
   "cell_type": "code",
   "execution_count": 6,
   "metadata": {},
   "outputs": [
    {
     "data": {
      "text/plain": [
       "torch.Size([32, 2, 1024])"
      ]
     },
     "execution_count": 6,
     "metadata": {},
     "output_type": "execute_result"
    }
   ],
   "source": [
    "next(iter(dl_train))[0].shape"
   ]
  },
  {
   "cell_type": "code",
   "execution_count": 25,
   "metadata": {},
   "outputs": [
    {
     "name": "stderr",
     "output_type": "stream",
     "text": [
      "/tmp/ipykernel_783178/920308708.py:1: FutureWarning: You are using `torch.load` with `weights_only=False` (the current default value), which uses the default pickle module implicitly. It is possible to construct malicious pickle data which will execute arbitrary code during unpickling (See https://github.com/pytorch/pytorch/blob/main/SECURITY.md#untrusted-models for more details). In a future release, the default value for `weights_only` will be flipped to `True`. This limits the functions that could be executed during unpickling. Arbitrary objects will no longer be allowed to be loaded via this mode unless they are explicitly allowlisted by the user via `torch.serialization.add_safe_globals`. We recommend you start setting `weights_only=True` for any use case where you don't have full control of the loaded file. Please open an issue on GitHub for any issues related to this experimental feature.\n",
      "  model = torch.load('src/SavedModels/VQVAE_epochs_10.pt').to('cuda')\n"
     ]
    }
   ],
   "source": [
    "model = torch.load('src/SavedModels/VQVAE_epochs_10.pt').to('cuda')"
   ]
  },
  {
   "cell_type": "code",
   "execution_count": 32,
   "metadata": {},
   "outputs": [],
   "source": [
    "data = torch.cat([ model.codebook.quantize_indices(model.encode(x.to('cuda'))) for x,label in  dl_train ])"
   ]
  },
  {
   "cell_type": "code",
   "execution_count": 36,
   "metadata": {},
   "outputs": [
    {
     "name": "stdout",
     "output_type": "stream",
     "text": [
      "torch.Size([6000, 513])\n"
     ]
    }
   ],
   "source": [
    "data_label = []\n",
    "\n",
    "for x, label in dl_train:\n",
    "    # Quantize indices\n",
    "    quantized_indices = model.codebook.quantize_indices(model.encode(x.to('cuda')))  # Shape: (32, 512)\n",
    "\n",
    "    # Ensure label is of shape (32, 1)\n",
    "    label = label.unsqueeze(1)  # Shape: (32, 1)\n",
    "\n",
    "    # Concatenate label with quantized indices\n",
    "    combined_tensor = torch.cat((label.to('cuda'), quantized_indices), dim=1)  # Shape: (32, 513)\n",
    "\n",
    "    # Append the combined tensor to data_label list\n",
    "    data_label.append(combined_tensor)\n",
    "\n",
    "# After the loop, convert data_label list to a single tensor if needed\n",
    "data_label_tensor = torch.cat(data_label, dim=0)  # Shape: (batch_size * num_batches, 513)\n",
    "\n",
    "# Print shape to verify\n",
    "print(data_label_tensor.shape)\n"
   ]
  },
  {
   "cell_type": "code",
   "execution_count": 44,
   "metadata": {},
   "outputs": [],
   "source": [
    "data_label = torch.cat([torch.cat((label.unsqueeze(1).to('cuda'), model.codebook.quantize_indices(model.encode(x.to('cuda')))), dim=1) for x, label in dl_train],dim=0)\n"
   ]
  },
  {
   "cell_type": "code",
   "execution_count": 45,
   "metadata": {},
   "outputs": [
    {
     "data": {
      "text/plain": [
       "torch.Size([6000, 513])"
      ]
     },
     "execution_count": 45,
     "metadata": {},
     "output_type": "execute_result"
    }
   ],
   "source": [
    "data_label.shape"
   ]
  },
  {
   "cell_type": "code",
   "execution_count": null,
   "metadata": {},
   "outputs": [],
   "source": []
  }
 ],
 "metadata": {
  "kernelspec": {
   "display_name": "yagnaEnv",
   "language": "python",
   "name": "yagnaenv"
  },
  "language_info": {
   "codemirror_mode": {
    "name": "ipython",
    "version": 3
   },
   "file_extension": ".py",
   "mimetype": "text/x-python",
   "name": "python",
   "nbconvert_exporter": "python",
   "pygments_lexer": "ipython3",
   "version": "3.12.6"
  }
 },
 "nbformat": 4,
 "nbformat_minor": 4
}
